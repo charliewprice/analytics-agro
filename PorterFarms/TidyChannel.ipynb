{
 "cells": [
  {
   "cell_type": "markdown",
   "metadata": {},
   "source": [
    "## Removes Messages containing a string from All Channels"
   ]
  },
  {
   "cell_type": "code",
   "execution_count": 7,
   "metadata": {},
   "outputs": [],
   "source": [
    "matchString = \"problem\" "
   ]
  },
  {
   "cell_type": "code",
   "execution_count": 8,
   "metadata": {},
   "outputs": [
    {
     "name": "stdout",
     "output_type": "stream",
     "text": [
      "============================================\n",
      "/  TidyChannel is running.               /\n",
      "============================================\n",
      "localhost 5432 kanjidb postgres w0lfpack\n",
      "Welcome to Jupyter Notebook.  You are connected to the Kanji database!\n"
     ]
    }
   ],
   "source": [
    "import sys\n",
    "sys.path.append('/home/sensei/jupy-notebooks/Analytics/PorterFarms/')\n",
    "print(\"============================================\")\n",
    "print(\"/  TidyChannel is running.               /\")\n",
    "print(\"============================================\")\n",
    "import requests\n",
    "from datetime import datetime, timedelta\n",
    "import pytz\n",
    "from slackclient import SlackClient\n",
    "import json\n",
    "import psycopg2 as pg\n",
    "import pandas.io.sql as psql\n",
    "import pandas as pd\n",
    "import configparser\n",
    "import time\n",
    "\n",
    "config = configparser.ConfigParser()\n",
    "config.read(\"../../analytics_secrets.ini\")\n",
    "\n",
    "_ACTIVE_STANDBY = config['DEFAULT']['role']\n",
    "if _ACTIVE_STANDBY == 'STANDBY':\n",
    "    print(\"STANDBY\")\n",
    "    raise SystemExit(\"Stop right there!\")\n",
    "else:\n",
    "  _SLACK_TOKEN = config['slack']['token']\n",
    "  _CHIRPSTACK_USER = config['chirpstack']['user']\n",
    "  _CHIRPSTACK_PASS = config['chirpstack']['password']\n",
    "  _DB_HOST  = config['kanjidb']['dbhost']\n",
    "  _DB_PORT  = config['kanjidb']['dbport']\n",
    "  _DB_NAME  = config['kanjidb']['dbname']\n",
    "  _DB_USER  = config['kanjidb']['dbuser']\n",
    "  _DB_PASS  = config['kanjidb']['dbpass']\n",
    "\n",
    "  _LOG_DEBUG = 0\n",
    "  _LOG_INFO  = 1\n",
    "  _LOG_ERROR = 2\n",
    "  _LOG_LEVEL = int(config['DEFAULT']['loglevel'])\n",
    "  \n",
    "  _LOG_LEVEL = _LOG_DEBUG\n",
    "    \n",
    "def logger(level, message):\n",
    "    if level >= _LOG_LEVEL:\n",
    "      print(message)\n",
    "\n",
    "logger(_LOG_DEBUG, \"{} {} {} {} {}\".format(_DB_HOST, _DB_PORT, _DB_NAME, _DB_USER, _DB_PASS))\n",
    "\n",
    "import kanjiticketing as kt\n",
    "\n",
    "conn = kt.getKanjiDbConnection(_DB_HOST, _DB_PORT, _DB_NAME, _DB_USER, _DB_PASS)\n",
    "if conn is not None:\n",
    "  print(\"Welcome to Jupyter Notebook.  You are connected to the Kanji database!\")\n",
    "else:\n",
    "  print(\"You are not connected to the database.\")\n",
    "\n",
    "updatetemplate = \"{\\\n",
    "    \\\"ok\\\": true, \\\n",
    "    \\\"channel\\\": \\\"C024BE91L\\\", \\\n",
    "    \\\"ts\\\": \\\"1401383885.000061\\\", \\\n",
    "    \\\"text\\\": \\\"Updated text you carefully authored\\\", \\\n",
    "    \\\"message\\\": { \\\n",
    "        \\\"text\\\": \\\"Updated text you carefully authored\\\", \\\n",
    "        \\\"user\\\": \\\"DGM50H51N\\\" \\\n",
    "    } }\""
   ]
  },
  {
   "cell_type": "code",
   "execution_count": 9,
   "metadata": {},
   "outputs": [],
   "source": [
    "def updateMessageToSlack(slackchannel, ts, text):\n",
    "    sc = SlackClient(_SLACK_TOKEN)\n",
    "    response = sc.api_call(\"chat.update\", channel=slackchannel, ts=ts, text=text, blocks=[])\n",
    "    #print(blockmessage) \n",
    "    if not 'ok' in response or not response['ok']:\n",
    "      print(\"Error posting message to Slack channel\")\n",
    "      print(blockmessage)\n",
    "      print(response)\n",
    "      return 'failed'\n",
    "    else:\n",
    "      print(\"Ok posting message to Slack channel\")\n",
    "      return 'ok'"
   ]
  },
  {
   "cell_type": "code",
   "execution_count": 10,
   "metadata": {},
   "outputs": [],
   "source": [
    "def getMessageList(text):\n",
    "    sc = SlackClient(_SLACK_TOKEN)\n",
    "    response = sc.api_call(\"search.messages\", query=text, count=100)\n",
    "    if not 'ok' in response or not response['ok']:      \n",
    "      return None\n",
    "    else:\n",
    "      print(\"Ok searching Slack workspace.\")\n",
    "      return response['messages']"
   ]
  },
  {
   "cell_type": "code",
   "execution_count": 11,
   "metadata": {},
   "outputs": [],
   "source": [
    "def deleteMessage(channelid, ts):\n",
    "    sc = SlackClient(_SLACK_TOKEN)\n",
    "    response = sc.api_call(\"chat.delete\", channel=channelid, ts=ts)\n",
    "    if not 'ok' in response or not response['ok']:      \n",
    "      logger(_LOG_ERROR, \"error deleting message.\")\n",
    "      logger(_LOG_ERROR, response)\n",
    "    else:\n",
    "      print(\"Ok deleting Slack message.\")      \n",
    "    time.sleep(1)    "
   ]
  },
  {
   "cell_type": "code",
   "execution_count": 12,
   "metadata": {},
   "outputs": [
    {
     "name": "stdout",
     "output_type": "stream",
     "text": [
      "Ok searching Slack workspace.\n",
      "TidyChannel Done!\n"
     ]
    }
   ],
   "source": [
    "messageList = getMessageList(matchString)\n",
    "if messageList is not None:\n",
    "   #logger(_LOG_INFO, messageList['matches'])\n",
    "   for n in range(0, len(messageList['matches'])):\n",
    "      message = messageList['matches'][n]\n",
    "      channelname = message['channel']['name']\n",
    "      #logger(_LOG_INFO, \"{}\".format(channelname))\n",
    "      #if channelname == \"rfsurvey\":\n",
    "      channelid = message['channel']['id']\n",
    "      ts = message['ts']\n",
    "      logger(_LOG_INFO, \"deleting {} {} {}\".format(channelname, channelid, ts))\n",
    "      deleteMessage(channelid, ts)\n",
    "logger(_LOG_INFO, \"TidyChannel Done!\")"
   ]
  },
  {
   "cell_type": "code",
   "execution_count": null,
   "metadata": {},
   "outputs": [],
   "source": []
  },
  {
   "cell_type": "code",
   "execution_count": null,
   "metadata": {},
   "outputs": [],
   "source": []
  }
 ],
 "metadata": {
  "kernelspec": {
   "display_name": "KanjiProjects",
   "language": "python",
   "name": "kanjiprojects"
  },
  "language_info": {
   "codemirror_mode": {
    "name": "ipython",
    "version": 3
   },
   "file_extension": ".py",
   "mimetype": "text/x-python",
   "name": "python",
   "nbconvert_exporter": "python",
   "pygments_lexer": "ipython3",
   "version": "3.7.2"
  }
 },
 "nbformat": 4,
 "nbformat_minor": 2
}
