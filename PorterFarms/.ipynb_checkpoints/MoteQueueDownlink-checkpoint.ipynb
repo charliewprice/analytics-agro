{
 "cells": [
  {
   "cell_type": "code",
   "execution_count": 5,
   "metadata": {},
   "outputs": [
    {
     "name": "stdout",
     "output_type": "stream",
     "text": [
      "============================================\n",
      "/  MoteQueueDownlink is running.           /\n",
      "============================================\n",
      "localhost 5432 kanjidb postgres w0lfpack\n",
      "Welcome to Jupyter Notebook.  You are connected to the Kanji database!\n"
     ]
    }
   ],
   "source": [
    "import sys\n",
    "sys.path.append('/home/sensei/jupy-notebooks/Analytics/PorterFarms/')\n",
    "print(\"============================================\")\n",
    "print(\"/  MoteQueueDownlink is running.           /\")\n",
    "print(\"============================================\")\n",
    "\n",
    "import requests\n",
    "from datetime import datetime, timedelta\n",
    "import pytz\n",
    "from slackclient import SlackClient\n",
    "import json\n",
    "import psycopg2 as pg\n",
    "import pandas.io.sql as psql\n",
    "import pandas as pd\n",
    "import configparser\n",
    "import grpc\n",
    "from chirpstack_api import api\n",
    "\n",
    "\n",
    "config = configparser.ConfigParser()\n",
    "config.read(\"../analytics_secrets.ini\")\n",
    "\n",
    "_ACTIVE_STANDBY = config['DEFAULT']['role']\n",
    "if _ACTIVE_STANDBY == 'STANDBY':\n",
    "    print(\"STANDBY\")\n",
    "    raise SystemExit(\"Stop right there!\")\n",
    "else:\n",
    "  _SLACK_TOKEN = config['slack']['token']\n",
    "\n",
    "  _CHIRPSTACK_USER = config['chirpstack']['user']\n",
    "  _CHIRPSTACK_PASS = config['chirpstack']['password']\n",
    "  _CHIRPSTACK_GRPC_KEY = config['chirpstack']['grpc_utility_key'] \n",
    "\n",
    "  _DB_HOST  = config['kanjidb']['dbhost']\n",
    "  _DB_PORT  = config['kanjidb']['dbport']\n",
    "  _DB_NAME  = config['kanjidb']['dbname']\n",
    "  _DB_USER  = config['kanjidb']['dbuser']\n",
    "  _DB_PASS  = config['kanjidb']['dbpass']\n",
    "\n",
    "  _SLACK_SYSTEMCHANNEL_NAME = config['analytics']['systemchannelname']\n",
    "  _SLACK_SYSTEMCHANNEL_DBID = int(config['analytics']['systemchannelid'])\n",
    "\n",
    "  _USE_DROPBOX   = config['dropbox']['usedropbox']\n",
    "  _FALLBACK_IMAGE = config['dropbox']['fallbackimage']\n",
    "\n",
    "  _UTC_OFFSET = int(config['DEFAULT']['utcoffset'])\n",
    "\n",
    "  _LOG_DEBUG = 0\n",
    "  _LOG_INFO  = 1\n",
    "  _LOG_ERROR = 2\n",
    "  _LOG_LEVEL = int(config['DEFAULT']['loglevel'])\n",
    "def logger(level, message):\n",
    "    if level >= _LOG_LEVEL:\n",
    "      print(message)\n",
    "\n",
    "logger(_LOG_DEBUG, \"{} {} {} {} {}\".format(_DB_HOST, _DB_PORT, _DB_NAME, _DB_USER, _DB_PASS))\n",
    "\n",
    "import kanjiticketing as kt\n",
    "\n",
    "conn = kt.getKanjiDbConnection(_DB_HOST, _DB_PORT, _DB_NAME, _DB_USER, _DB_PASS)\n",
    "if conn is not None:\n",
    "  print(\"Welcome to Jupyter Notebook.  You are connected to the Kanji database!\")\n",
    "else:\n",
    "  print(\"You are not connected to the database.\")\n",
    "\n",
    "messagetemplate = \"[\\\n",
    "   {\\\"type\\\": \\\"section\\\", \\\n",
    "\t\t\\\"text\\\": { \\\n",
    "\t\t\t\\\"type\\\": \\\"mrkdwn\\\", \\\n",
    "\t\t\t\\\"text\\\": \\\"*<fakeLink.toUserProfiles.com|Iris / Zelda 1-1>*\\\\nTuesday, January 21 4:00-4:30pm\\\\nBuilding 2 - Havarti Cheese (3)\\\\n2 guests\\\" \\\n",
    "\t\t}, \\\n",
    "\t\t\\\"accessory\\\": { \\\n",
    "\t\t\t\\\"type\\\": \\\"image\\\", \\\n",
    "\t\t\t\\\"image_url\\\": \\\"https://api.slack.com/img/blocks/bkb_template_images/notifications.png\\\", \\\n",
    "\t\t\t\\\"alt_text\\\": \\\"calendar thumbnail\\\" \\\n",
    "\t\t} \\\n",
    "   } ]\"\n",
    "\n",
    "_LOG_LEVEL = _LOG_DEBUG"
   ]
  },
  {
   "cell_type": "code",
   "execution_count": 7,
   "metadata": {},
   "outputs": [],
   "source": [
    "DEPLOYSTATE_ACTIVE   = 10001\n",
    "DEPLOYSTATE_INACTIVE = 10000\n",
    "\n",
    "chirpstack_grpc_server = \"localhost:8080\"\n",
    "# Connect without using TLS.\n",
    "channel = grpc.insecure_channel(chirpstack_grpc_server)\n",
    "\n",
    "# Device-queue API client.\n",
    "client = api.DeviceServiceStub(channel)\n",
    "\n",
    "# Define the API key meta-data.\n",
    "auth_token = [(\"authorization\", \"Bearer %s\" % _CHIRPSTACK_GRPC_KEY)]\n"
   ]
  },
  {
   "cell_type": "markdown",
   "metadata": {},
   "source": [
    "## For each mote, queue downlink Send Command ##"
   ]
  },
  {
   "cell_type": "code",
   "execution_count": 11,
   "metadata": {},
   "outputs": [
    {
     "name": "stdout",
     "output_type": "stream",
     "text": [
      "SELECT node.idnode, node.name, node.deveui FROM kanji_node node              WHERE node.deploystate_id=10001\n",
      "number of motes 2\n",
      "agMote_20010 fca3ea000ba30400 60637c0a-0404-4a28-b1fd-b23143a54497\n",
      "nextgen_rc_01 6a84ea000ba30400 6e4904c2-8d8b-4266-baa1-f9a0f4e87975\n",
      "MoteQueueDownlink Done!\n"
     ]
    }
   ],
   "source": [
    "_LOG_LEVEL = _LOG_DEBUG\n",
    "\n",
    "_REBOOT_COMMAND = \"Ug==\"  #R forces the mote to reset\n",
    "\n",
    "#All Motes types\n",
    "motequery = \"SELECT node.idnode, node.name, node.deveui FROM kanji_node node \\\n",
    "             WHERE node.deploystate_id={}\".format(DEPLOYSTATE_ACTIVE)\n",
    "logger(_LOG_DEBUG, motequery)\n",
    "df = pd.read_sql(motequery, conn)\n",
    "\n",
    "logger(_LOG_DEBUG, \"number of motes {}\".format(len(df.index)))\n",
    "for ind in df.index:\n",
    "  dev_name = df['name'][ind]\n",
    "  dev_eui = df['deveui'][ind]\n",
    "  req = api.EnqueueDeviceQueueItemRequest()\n",
    "  req.queue_item.confirmed = False\n",
    "  req.queue_item.data = bytes([0x01, 0x02, 0x03])\n",
    "  req.queue_item.dev_eui = dev_eui\n",
    "  req.queue_item.f_port = 10\n",
    "\n",
    "  resp = client.Enqueue(req, metadata=auth_token)\n",
    "\n",
    "  # Print the downlink id\n",
    "  print(\"{} {} {}\".format(dev_name,dev_eui,resp.id))\n",
    "\n",
    "logger(_LOG_INFO, \"\\nMoteQueueDownlink Done!\")  "
   ]
  },
  {
   "cell_type": "code",
   "execution_count": null,
   "metadata": {},
   "outputs": [],
   "source": []
  }
 ],
 "metadata": {
  "kernelspec": {
   "display_name": "sensei_env",
   "language": "python",
   "name": "sensei_env"
  },
  "language_info": {
   "codemirror_mode": {
    "name": "ipython",
    "version": 3
   },
   "file_extension": ".py",
   "mimetype": "text/x-python",
   "name": "python",
   "nbconvert_exporter": "python",
   "pygments_lexer": "ipython3",
   "version": "3.6.9"
  }
 },
 "nbformat": 4,
 "nbformat_minor": 2
}
