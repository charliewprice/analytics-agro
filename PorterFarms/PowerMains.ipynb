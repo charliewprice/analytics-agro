{
 "cells": [
  {
   "cell_type": "markdown",
   "metadata": {},
   "source": [
    "# Power Mains Monitoring (a PoP type and crontab task)\n",
    "\n",
    "This monitor script is used for the AC Power Sensor PoP type.\n",
    "\n",
    "The following issues are used in tickets opened by this script:\n",
    "- CODE_RED\n",
    "- CODE_GREEN\n",
    "\n",
    "### CODE_RED MAINS POWER FAILURE<br>\n",
    "This issue can arise if a circuit breaker has tripped.,\n",
    "### CODE_GREEN MAINS POWER OK<br>\n",
    "This is the normal status for all monitored circuits."
   ]
  },
  {
   "cell_type": "code",
   "execution_count": 1,
   "metadata": {},
   "outputs": [],
   "source": [
    "DEPLOYED_ACTIVE  = 10001\n",
    "\n",
    "#Ticket Types\n",
    "CODE_GREEN  = 11000  # normally not ticketed\n",
    "CODE_RED    = 11004"
   ]
  },
  {
   "cell_type": "code",
   "execution_count": 2,
   "metadata": {},
   "outputs": [
    {
     "name": "stdout",
     "output_type": "stream",
     "text": [
      "============================================\n",
      "/  Power Mains is running.                  /\n",
      "============================================\n",
      "/home/sensei/jupy-notebooks/Analytics/PorterFarms\n",
      "Python version\n",
      "3.7.2 (default, Dec 29 2018, 06:19:36) \n",
      "[GCC 7.3.0]\n",
      "Version info.\n",
      "sys.version_info(major=3, minor=7, micro=2, releaselevel='final', serial=0)\n",
      "Welcome to Jupyter Notebook.  You are connected to the Kanji database!\n"
     ]
    }
   ],
   "source": [
    "import os\n",
    "import sys\n",
    "sys.path.append('/home/sensei/jupy-notebooks/Analytics/PorterFarms')\n",
    "print(\"============================================\")\n",
    "print(\"/  Power Mains is running.                  /\")\n",
    "print(\"============================================\")\n",
    "import requests\n",
    "from datetime import datetime, timedelta\n",
    "import pytz\n",
    "from slackclient import SlackClient\n",
    "import json\n",
    "import psycopg2 as pg\n",
    "import pandas.io.sql as psql\n",
    "import pandas as pd\n",
    "import configparser\n",
    "import time\n",
    "\n",
    "print(os.getcwd())\n",
    "config = configparser.ConfigParser()\n",
    "config.read(\"../../analytics_secrets.ini\")\n",
    "\n",
    "_ACTIVE_STANDBY = config['DEFAULT']['role']\n",
    "if _ACTIVE_STANDBY == 'STANDBY':\n",
    "    print(\"STANDBY\")\n",
    "    raise SystemExit(\"Stop right there!\")\n",
    "else:\n",
    "  _SLACK_TOKEN = config['slack']['token']\n",
    "  _CHIRPSTACK_USER = config['chirpstack']['user']\n",
    "  _CHIRPSTACK_PASS = config['chirpstack']['password']\n",
    "  _DB_HOST  = config['kanjidb']['dbhost']\n",
    "  _DB_PORT  = config['kanjidb']['dbport']\n",
    "  _DB_NAME  = config['kanjidb']['dbname']\n",
    "  _DB_USER  = config['kanjidb']['dbuser']\n",
    "  _DB_PASS  = config['kanjidb']['dbpass']\n",
    "    \n",
    "  _LOG_DEBUG = 0\n",
    "  _LOG_INFO  = 1\n",
    "  _LOG_ERROR = 2\n",
    "  _LOG_LEVEL = int(config['DEFAULT']['loglevel'])\n",
    "      \n",
    "def logger(level, message):\n",
    "    if level >= _LOG_LEVEL:\n",
    "      print(message)\n",
    "\n",
    "logger(_LOG_DEBUG, \"{} {} {} {} {}\".format(_DB_HOST, _DB_PORT, _DB_NAME, _DB_USER, _DB_PASS))\n",
    "\n",
    "import kanjiticketing as kt\n",
    "\n",
    "conn = kt.getKanjiDbConnection(_DB_HOST, _DB_PORT, _DB_NAME, _DB_USER, _DB_PASS)\n",
    "if conn is not None:\n",
    "  print(\"Welcome to Jupyter Notebook.  You are connected to the Kanji database!\")\n",
    "else:\n",
    "  print(\"You are not connected to the database.\")"
   ]
  },
  {
   "cell_type": "code",
   "execution_count": 3,
   "metadata": {},
   "outputs": [],
   "source": [
    "def ticketIssue(conn, node_id, ticket_type, description):\n",
    "  openTicket = kt.ticketExists(conn, node_id, ticket_type, [kt._OPEN_STATUS, kt._WORKING_STATUS])\n",
    "  if openTicket is None:\n",
    "    query = \"SELECT    node.name, node.location_id, location.description, location.slackalertchannel_id, \\\n",
    "                       location.imageurl, customer.slacktoken, slackchannel.idslackchannel, slackchannel.channelid \\\n",
    "                       FROM kanji_node node JOIN kanji_location location ON location.idlocation=node.location_id \\\n",
    "                       JOIN kanji_slackchannel slackchannel ON location.slackalertchannel_id=slackchannel.idslackchannel \\\n",
    "                       JOIN kanji_customer customer ON customer.idcustomer=node.customer_id \\\n",
    "                       WHERE node.idnode={}\".format(node_id)\n",
    "    logger(_LOG_INFO, query)\n",
    "    df = pd.read_sql(query, conn)    \n",
    "    locationid = df['location_id'][0]\n",
    "    locationdescription = df['description'][0]\n",
    "    alerttextquery = \"SELECT alerttext FROM kanji_tickettype WHERE idtickettype={}\".format(ticket_type)\n",
    "    df2 = pd.read_sql(alerttextquery, conn)\n",
    "    ticketdescription = description + \" \" + df2['alerttext'][0]\n",
    "    slackchannelid = df['idslackchannel'][0]\n",
    "    slackchannelname = df['channelid'][0]\n",
    "    nodename = df['name'][0]\n",
    "    mentions = \"@Charlie\"\n",
    "    locationimageurl = df['imageurl'][0]\n",
    "    slacktoken = df['slacktoken'][0]\n",
    "    \n",
    "    logger(_LOG_DEBUG,\"channel={} token={}\".format(slackchannelid,slacktoken))\n",
    "    \n",
    "    ticketid = kt.openticket(conn, node_id, locationid, ticketdescription, 2, 3, ticket_type, slackchannelid)\n",
    "    ts = kt.slackticket(nodename, locationdescription, ticketdescription, mentions, 2, 3, locationimageurl, \\\n",
    "                        slacktoken,slackchannelname, ticketid, 0)\n",
    "    kt.updateTicket(conn, ticketid, ts)  \n",
    "    logger(_LOG_INFO, \"New ticket {} created for this issue.\".format(ticketid))\n",
    "  else:\n",
    "    logger(_LOG_INFO, \"There is an existing ticket {} for this issue. {}\".format(openTicket['idticket'][0], openTicket['opentimestamp'][0]))"
   ]
  },
  {
   "cell_type": "code",
   "execution_count": 4,
   "metadata": {},
   "outputs": [],
   "source": [
    "messagetemplate = \"[\\\n",
    "   {\\\"type\\\": \\\"section\\\", \\\n",
    "\t\t\\\"text\\\": { \\\n",
    "\t\t\t\\\"type\\\": \\\"mrkdwn\\\", \\\n",
    "\t\t\t\\\"text\\\": \\\"*<fakeLink.toUserProfiles.com|Iris / Zelda 1-1>*\\\\nTuesday, January 21 4:00-4:30pm\\\\nBuilding 2 - Havarti Cheese (3)\\\\n2 guests\\\" \\\n",
    "\t\t}, \\\n",
    "\t\t\\\"accessory\\\": { \\\n",
    "\t\t\t\\\"type\\\": \\\"image\\\", \\\n",
    "\t\t\t\\\"image_url\\\": \\\"https://api.slack.com/img/blocks/bkb_template_images/notifications.png\\\", \\\n",
    "\t\t\t\\\"alt_text\\\": \\\"calendar thumbnail\\\" \\\n",
    "\t\t} \\\n",
    "   } ]\""
   ]
  },
  {
   "cell_type": "code",
   "execution_count": 5,
   "metadata": {},
   "outputs": [],
   "source": [
    "def postMessageToSlack(text):    \n",
    "    sc = SlackClient(_SLACK_TOKEN)\n",
    "    slackchannel = \"infrastructure\"\n",
    "    response = sc.api_call(\"chat.postMessage\", channel=slackchannel, text=text, blocks=[])\n",
    "    if not 'ok' in response or not response['ok']:\n",
    "      print(\"Error posting message to Slack channel\")\n",
    "      print(response)\n",
    "    else:\n",
    "      print(\"Ok posting message to Slack channel\")   "
   ]
  },
  {
   "cell_type": "markdown",
   "metadata": {},
   "source": [
    "# Strategy\n",
    "Query the AC Power Sensor PoP type on ALL deployed motes.\n",
    "\n",
    "Query the poplog for the sensor value.  Restrict the query to a single value in the previous 5 minute period. If found, determine the status of the monitored circuit.\n",
    "\n",
    "The mains sensor value range is 0 to 10.  A mains sensor value <5 indicates Power Ok.  A mains sensor value 10 is indicative of a power failure"
   ]
  },
  {
   "cell_type": "code",
   "execution_count": 10,
   "metadata": {},
   "outputs": [
    {
     "name": "stdout",
     "output_type": "stream",
     "text": [
      "popquery=SELECT pop.idpop, node.idnode, node.name, location.description as location             FROM kanji_pop pop             JOIN kanji_node node ON node.idnode=pop.node_id             JOIN kanji_location location on location.idlocation=node.location_id             WHERE type_id=10002 AND deploystate_id =10001\n",
      "mote = agMote-20010 20010 at Breeding\n",
      "value=2.0\n",
      "PowerOk at 2022-06-10 14:29:08.786301+00:00\n"
     ]
    }
   ],
   "source": [
    "_LOG_LEVEL = _LOG_DEBUG\n",
    "\n",
    "_AC_POWER_SENSOR_POPTYPE = 10002\n",
    "\n",
    "_MAINS_THRESHOLD_VALUE = 7\n",
    "\n",
    "popquery = \"SELECT pop.idpop, node.idnode, node.name, location.description as location \\\n",
    "            FROM kanji_pop pop \\\n",
    "            JOIN kanji_node node ON node.idnode=pop.node_id \\\n",
    "            JOIN kanji_location location on location.idlocation=node.location_id \\\n",
    "            WHERE type_id={} AND deploystate_id ={}\".format(_AC_POWER_SENSOR_POPTYPE, DEPLOYED_ACTIVE)\n",
    "\n",
    "logger(_LOG_DEBUG, \"popquery={}\".format(popquery))\n",
    "pops = pd.read_sql(popquery, conn)\n",
    "if pops.size>0:\n",
    "  for popidx in pops.index:\n",
    "    motename = pops['name'][popidx]\n",
    "    moteid = pops['idnode'][popidx]\n",
    "    motelocation = pops['location'][popidx]\n",
    "    popid = pops['idpop'][popidx]\n",
    "    print(\"mote = {} {} at {}\".format(motename, moteid, motelocation))\n",
    "    popvalquery = \"SELECT timestamp, value FROM kanji_poplog \\\n",
    "                     WHERE pop_id={} AND \\\n",
    "                     timestamp > now() - INTERVAL '{} minutes' \\\n",
    "                     ORDER BY timestamp desc LIMIT 1\".format(popid, 5)\n",
    "    vals = pd.read_sql(popvalquery, conn)\n",
    "    if vals.size>0: \n",
    "      for validx in vals.index:\n",
    "         value = vals['value'][validx]\n",
    "         timestamp = vals['timestamp'][validx]\n",
    "         print(\"value={}\".format(value))\n",
    "         if (value > _MAINS_THRESHOLD_VALUE):\n",
    "            print(\"Power Failure at {}\".format(timestamp))\n",
    "            #ticketIssue(conn, moteid, CODE_RED, \"CODE_RED Power Failure on PoP {}.\".format(popid))\n",
    "            #postMessageToSlack(\"{} CODE_RED Power Failure on PoP {}.\".format(motelocation, popid))\n",
    "         else:\n",
    "            print(\"PowerOk at {}\".format(timestamp))\n",
    "    else:\n",
    "      print(\"Query {} returned no results\".format(popvalquery))            "
   ]
  },
  {
   "cell_type": "code",
   "execution_count": null,
   "metadata": {},
   "outputs": [],
   "source": []
  },
  {
   "cell_type": "code",
   "execution_count": null,
   "metadata": {},
   "outputs": [],
   "source": []
  }
 ],
 "metadata": {
  "kernelspec": {
   "display_name": "KanjiProjects",
   "language": "python",
   "name": "kanjiprojects"
  },
  "language_info": {
   "codemirror_mode": {
    "name": "ipython",
    "version": 3
   },
   "file_extension": ".py",
   "mimetype": "text/x-python",
   "name": "python",
   "nbconvert_exporter": "python",
   "pygments_lexer": "ipython3",
   "version": "3.7.2"
  }
 },
 "nbformat": 4,
 "nbformat_minor": 2
}
