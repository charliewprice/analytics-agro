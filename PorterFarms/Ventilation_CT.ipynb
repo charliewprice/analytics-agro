{
 "cells": [
  {
   "cell_type": "markdown",
   "metadata": {},
   "source": [
    "# Ventilation Equipment Monitoring\n",
    "\n",
    "This monitor script is used where CTs are used on circuits activated periodically according to a duty cycle to provide fresh air to the room.<br>\n",
    "\n",
    "The following issues are used in tickets opened by this script:\n",
    "- DUTY_CYCLE_BELOW_CRITICAL_VALUE\n",
    "- DUTY_CYCLE_ABOVE_CRITICAL_VALUE\n",
    "\n",
    "### DUTY_CYCLE_BELOW_CRITICAL_VALUE<br>\n",
    "TBD __LOW__ or __NO AIR MOVEMENT__.\n",
    "### DUTY_CYCLE_ABOVE_CRITICAL_VALUE<br>\n",
    "TBD __LOW__ or __NO AIR MOVEMENT__.\n",
    "\n",
    "This script currently uses fixed TCRIT and IDLEBAND settings.  Enhancements may be included at some point to calculate these parameters based on scatter diagram histories."
   ]
  },
  {
   "cell_type": "code",
   "execution_count": null,
   "metadata": {},
   "outputs": [],
   "source": []
  },
  {
   "cell_type": "code",
   "execution_count": 1,
   "metadata": {},
   "outputs": [],
   "source": [
    "#Ticket Types\n",
    "DUTY_CYCLE_BELOW_CRITICAL_VALUE = 10015\n",
    "DUTY_CYCLE_ABOVE_CRITICAL_VALUE = 10016\n",
    "\n",
    "#Mote Types producing the Ventilation Equipment CT data\n",
    "CT_PROFILER_MOTE = 10003\n",
    "DEPLOYED_ACTIVE  = 10001"
   ]
  },
  {
   "cell_type": "code",
   "execution_count": 2,
   "metadata": {},
   "outputs": [
    {
     "name": "stdout",
     "output_type": "stream",
     "text": [
      "============================================\n",
      "/  Ventilation_CT is running.              /\n",
      "============================================\n",
      "/home/sensei/jupy-notebooks/Analytics/PorterFarms\n",
      "Python version\n",
      "3.7.2 (default, Dec 29 2018, 06:19:36) \n",
      "[GCC 7.3.0]\n",
      "Version info.\n",
      "sys.version_info(major=3, minor=7, micro=2, releaselevel='final', serial=0)\n",
      "Welcome to Jupyter Notebook.  You are connected to the Kanji database!\n"
     ]
    }
   ],
   "source": [
    "import os\n",
    "import sys\n",
    "sys.path.append('/home/sensei/jupy-notebooks/Analytics/PorterFarms')\n",
    "print(\"============================================\")\n",
    "print(\"/  Ventilation_CT is running.              /\")\n",
    "print(\"============================================\")\n",
    "import requests\n",
    "from datetime import datetime, timedelta\n",
    "import pytz\n",
    "from slackclient import SlackClient\n",
    "import json\n",
    "import psycopg2 as pg\n",
    "import pandas.io.sql as psql\n",
    "import pandas as pd\n",
    "import configparser\n",
    "import time\n",
    "\n",
    "print(os.getcwd())\n",
    "config = configparser.ConfigParser()\n",
    "config.read(\"../../analytics_secrets.ini\")\n",
    "\n",
    "_ACTIVE_STANDBY = config['DEFAULT']['role']\n",
    "if _ACTIVE_STANDBY == 'STANDBY':\n",
    "    print(\"STANDBY\")\n",
    "    raise SystemExit(\"Stop right there!\")\n",
    "else:\n",
    "  _SLACK_TOKEN = config['slack']['token']\n",
    "  _CHIRPSTACK_USER = config['chirpstack']['user']\n",
    "  _CHIRPSTACK_PASS = config['chirpstack']['password']\n",
    "  _DB_HOST  = config['kanjidb']['dbhost']\n",
    "  _DB_PORT  = config['kanjidb']['dbport']\n",
    "  _DB_NAME  = config['kanjidb']['dbname']\n",
    "  _DB_USER  = config['kanjidb']['dbuser']\n",
    "  _DB_PASS  = config['kanjidb']['dbpass']\n",
    "    \n",
    "  _LOG_DEBUG = 0\n",
    "  _LOG_INFO  = 1\n",
    "  _LOG_ERROR = 2\n",
    "  _LOG_LEVEL = int(config['DEFAULT']['loglevel'])\n",
    "      \n",
    "def logger(level, message):\n",
    "    if level >= _LOG_LEVEL:\n",
    "      print(message)\n",
    "\n",
    "logger(_LOG_DEBUG, \"{} {} {} {} {}\".format(_DB_HOST, _DB_PORT, _DB_NAME, _DB_USER, _DB_PASS))\n",
    "\n",
    "import kanjiticketing as kt\n",
    "\n",
    "conn = kt.getKanjiDbConnection(_DB_HOST, _DB_PORT, _DB_NAME, _DB_USER, _DB_PASS)\n",
    "if conn is not None:\n",
    "  print(\"Welcome to Jupyter Notebook.  You are connected to the Kanji database!\")\n",
    "else:\n",
    "  print(\"You are not connected to the database.\")"
   ]
  },
  {
   "cell_type": "code",
   "execution_count": 3,
   "metadata": {},
   "outputs": [],
   "source": [
    "def ticketIssue(conn, node_id, ticket_type):\n",
    "  openTicket = kt.ticketExists(conn, node_id, ticket_type, [kt._OPEN_STATUS, kt._WORKING_STATUS])\n",
    "  if openTicket is None:\n",
    "    query = \"SELECT    node.name, node.location_id, location.description, location.slackalertchannel_id, \\\n",
    "                       location.imageurl, customer.slacktoken, slackchannel.idslackchannel, slackchannel.channelid \\\n",
    "                       FROM kanji_node node JOIN kanji_location location ON location.idlocation=node.location_id \\\n",
    "                       JOIN kanji_slackchannel slackchannel ON location.slackalertchannel_id=slackchannel.idslackchannel \\\n",
    "                       JOIN kanji_customer customer ON customer.idcustomer=node.customer_id \\\n",
    "                       WHERE node.idnode={}\".format(node_id)\n",
    "    logger(_LOG_DEBUG, query)\n",
    "    df = pd.read_sql(query, conn)    \n",
    "    locationid = df['location_id'][0]\n",
    "    locationdescription = df['description'][0]\n",
    "    ticketdescription = \"xyz\"\n",
    "    slackchannelid = df['idslackchannel'][0]\n",
    "    slackchannelname = df['channelid'][0]\n",
    "    nodename = df['name'][0]\n",
    "    mentions = \"@Charlie\"\n",
    "    locationimageurl = df['imageurl'][0]\n",
    "    slacktoken = df['slacktoken'][0]\n",
    "    \n",
    "    logger(_LOG_DEBUG,\"channel={} token={}\".format(slackchannelid,slacktoken))\n",
    "    \n",
    "    ticketid = kt.openticket(conn, node_id, locationid, ticketdescription, 2, 3, ticket_type, slackchannelid)\n",
    "    ts = kt.slackticket(nodename, locationdescription, ticketdescription, mentions, 2, 3, locationimageurl, \\\n",
    "                        slacktoken,slackchannelname, ticketid, 0)\n",
    "    kt.updateTicket(conn, ticketid, ts)  \n",
    "    logger(_LOG_INFO, \"New ticket {} created for this issue.\".format(ticketid))\n",
    "  else:\n",
    "    logger(_LOG_INFO, \"There is an existing ticket {} for this issue. {}\".format(openTicket['idticket'][0], openTicket['opentimestamp'][0]))\n",
    "    "
   ]
  },
  {
   "cell_type": "code",
   "execution_count": 4,
   "metadata": {},
   "outputs": [],
   "source": [
    "def characterize(df):\n",
    "  _ICRIT   = 2.0\n",
    "  tempon   = 0.0\n",
    "  tempoff  = 0.0\n",
    "  temponmax    = 0.0\n",
    "  tempoffmin   = 120.0\n",
    "  counton  = 0\n",
    "  countoff = 0\n",
    "  lastamps = 0.0 \n",
    "  ampson = 0.0\n",
    "  ampsoff = 0.0\n",
    "  for ind in df.index:\n",
    "    thistemp = df['tempf'][ind]\n",
    "    thisamps = df['mesh_amps'][ind]   \n",
    "    if (lastamps<_ICRIT) and (thisamps>=_ICRIT):\n",
    "      counton += 1\n",
    "      tempon  += thistemp\n",
    "      ampson  += thisamps\n",
    "      if thistemp>temponmax:\n",
    "        temponmax=thistemp\n",
    "    elif (lastamps>_ICRIT) and (thisamps<=_ICRIT):\n",
    "      countoff += 1\n",
    "      tempoff += thistemp\n",
    "      ampsoff += thisamps\n",
    "      if thistemp<tempoffmin:\n",
    "        tempoffmin=thistemp\n",
    "    lastamps = thisamps\n",
    "  if counton>0 and countoff>0:\n",
    "    dict = {'temponmax': temponmax, \n",
    "            'avgon': tempon/counton, \n",
    "            'tempoffmin': tempoffmin, \n",
    "            'avgoff': tempoff/countoff,\n",
    "            'avgonamps' : ampson/counton,\n",
    "            'avgoffamps': ampsoff/countoff,\n",
    "            #'setpoint': (tempon/counton+tempoff/countoff)/2,\n",
    "            #'idleband': (tempon/counton-tempoff/countoff)/2,\n",
    "            'setpoint': (tempoffmin+temponmax)/2,\n",
    "            'idleband': (temponmax-tempoffmin)/2,\n",
    "            'counton' : counton,\n",
    "            'countoff' : countoff}\n",
    "  else:\n",
    "    dict = {'temponmax': 80.0, \n",
    "            'avgon': 79.0, \n",
    "            'tempoffmin': 70.0, \n",
    "            'avgoff': 71.0,\n",
    "            'setpoint': 75.0,\n",
    "            'idleband': 2.0,\n",
    "            'avgonamps' : 10.0,\n",
    "            'avgoffamps': 0.0,\n",
    "            'counton' : 99,\n",
    "            'countoff' : 99}\n",
    "  #logger(_LOG_INFO,\"Inferred Thermostat Settings:\")  \n",
    "  #logger(_LOG_INFO, dict)\n",
    "  return dict"
   ]
  },
  {
   "cell_type": "markdown",
   "metadata": {},
   "source": [
    "# Strategy\n",
    "Ventilation fans are cycled on and off during the day to maintain a supply of fresh air to the animals.\n",
    "\n",
    "### Average Temperature and Fan Current over a Time Interval\n",
    "The average current within an interval of time is a reflection of the fan's duty-cycle.   The controller should/may be increasing the duty-cycle with rising temperature. Therefore the average temperature is useful in determining if there is an issue with the fan."
   ]
  },
  {
   "cell_type": "code",
   "execution_count": 7,
   "metadata": {},
   "outputs": [
    {
     "name": "stdout",
     "output_type": "stream",
     "text": [
      "\n",
      "Processing Ventilation data for agMote-20010\n",
      "\n",
      "Ventilation stage 1\n",
      "Period=30min, T=81.4, A=2.7\n"
     ]
    },
    {
     "data": {
      "image/png": "[encoded data removed]",
      "text/plain": [
       "<Figure size 720x450 with 1 Axes>"
      ]
     },
     "metadata": {
      "needs_background": "light"
     },
     "output_type": "display_data"
    },
    {
     "name": "stdout",
     "output_type": "stream",
     "text": [
      "\n",
      "Ventilation stage 2\n",
      "Period=30min, T=81.4, A=0.5\n"
     ]
    },
    {
     "data": {
      "image/png": "[encoded data removed]",
      "text/plain": [
       "<Figure size 720x450 with 1 Axes>"
      ]
     },
     "metadata": {
      "needs_background": "light"
     },
     "output_type": "display_data"
    },
    {
     "name": "stdout",
     "output_type": "stream",
     "text": [
      "Done!\n"
     ]
    }
   ],
   "source": [
    "#_LOG_LEVEL = _LOG_DEBUG\n",
    "_FIXED = False\n",
    "_PERIOD_HOURS = 12\n",
    "\n",
    "from matplotlib import pyplot as plt\n",
    "from shapely.geometry.polygon import Point, LinearRing\n",
    "import shapely.geometry as geometry\n",
    "import shapely.ops as so\n",
    "from descartes import PolygonPatch\n",
    "\n",
    "from scipy.optimize import curve_fit\n",
    "\n",
    "_COLUMNS  = [\"fval\", \"gval\"]\n",
    "_MESHNAMES= [\"1\", \"2\"]\n",
    "\n",
    "#_PERIODS = [5,15,30,60,120,360,720,1440]\n",
    "_PERIODS = [30]\n",
    "\n",
    "motequery = \"SELECT idnode, name FROM kanji_node WHERE nodetype_id={} AND deploystate_id={}\".format(CT_PROFILER_MOTE,DEPLOYED_ACTIVE)\n",
    "logger(_LOG_DEBUG, \"motequery={}\".format(motequery))\n",
    "\n",
    "motes = pd.read_sql(motequery, conn)\n",
    "if motes.size>0:\n",
    " for moteind in motes.index:\n",
    "  motename = motes['name'][moteind]\n",
    "  logger(_LOG_INFO,\"\\nProcessing Ventilation data for {}\".format(motename))\n",
    "  for n in range(0,len(_COLUMNS)):\n",
    "    logger(_LOG_INFO, \"\\nVentilation stage {}\".format(_MESHNAMES[n])) \n",
    "    motename = motes['name'][moteind]\n",
    "    moteid = motes['idnode'][moteind]\n",
    "    points = []\n",
    "    for m in range(0,len(_PERIODS)):\n",
    "      ctquery = \"SELECT avg(bval) AS tempf, \\\n",
    "                        avg({}) AS mesh_amps \\\n",
    "                        FROM kanji_eventlog WHERE node_id={} AND fcnt>0 \\\n",
    "                        AND timestamp>NOW() - INTERVAL '{} MINUTES';\".format(_COLUMNS[n], moteid, _PERIODS[m])\n",
    "      #logger(_LOG_INFO,\"event query={}\".format(ctquery))\n",
    "      df = pd.read_sql(ctquery, conn)\n",
    "      #logger(_LOG_INFO,\"  returned {} rows\".format(df.size))\n",
    "      temp = df['tempf'][0]\n",
    "      amps = df['mesh_amps'][0]\n",
    "      logger(_LOG_INFO,\"Period={}min, T={:.1f}, A={:.1f}\".format(_PERIODS[m], temp,amps))\n",
    "      points.append([temp, amps]) #/_PERIODS[m]])\n",
    "    \n",
    "    points = sorted(points)\n",
    "    fig, ax = plt.subplots(1, figsize=(8,5), dpi=90)\n",
    "    ax.set_title('Ventilation Stage {} {}'.format(_MESHNAMES[n], motename))\n",
    "    #xs = [point.x for point in points]\n",
    "    #ys = [point.y for point in points]\n",
    "    xs = [point[0] for point in points]\n",
    "    ys = [point[1] for point in points]\n",
    "    plt.plot(xs, ys, color='black')\n",
    "    plt.show()\n",
    " \n",
    "logger(_LOG_INFO, \"Done!\")      "
   ]
  },
  {
   "cell_type": "raw",
   "metadata": {},
   "source": []
  },
  {
   "cell_type": "code",
   "execution_count": null,
   "metadata": {},
   "outputs": [],
   "source": []
  },
  {
   "cell_type": "code",
   "execution_count": null,
   "metadata": {},
   "outputs": [],
   "source": []
  }
 ],
 "metadata": {
  "kernelspec": {
   "display_name": "KanjiProjects",
   "language": "python",
   "name": "kanjiprojects"
  },
  "language_info": {
   "codemirror_mode": {
    "name": "ipython",
    "version": 3
   },
   "file_extension": ".py",
   "mimetype": "text/x-python",
   "name": "python",
   "nbconvert_exporter": "python",
   "pygments_lexer": "ipython3",
   "version": "3.7.2"
  }
 },
 "nbformat": 4,
 "nbformat_minor": 2
}
