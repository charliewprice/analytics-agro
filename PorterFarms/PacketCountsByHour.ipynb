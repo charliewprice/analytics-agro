{
 "cells": [
  {
   "cell_type": "code",
   "execution_count": 1,
   "metadata": {},
   "outputs": [
    {
     "name": "stdout",
     "output_type": "stream",
     "text": [
      "============================================\n",
      "/  PacketCountsByHour is running.          /\n",
      "============================================\n",
      "Python version\n",
      "3.7.2 (default, Dec 29 2018, 06:19:36) \n",
      "[GCC 7.3.0]\n",
      "Version info.\n",
      "sys.version_info(major=3, minor=7, micro=2, releaselevel='final', serial=0)\n",
      "Welcome to Jupyter Notebook.  You are connected to the Kanji database!\n"
     ]
    }
   ],
   "source": [
    "import sys\n",
    "sys.path.append('/home/sensei/jupy-notebooks/Analytics/PorterFarms/')\n",
    "print(\"============================================\")\n",
    "print(\"/  PacketCountsByHour is running.          /\")\n",
    "print(\"============================================\")\n",
    "from datetime import datetime, timedelta\n",
    "import pytz\n",
    "import json\n",
    "import copy\n",
    "import psycopg2 as pg\n",
    "import pandas.io.sql as psql\n",
    "import pandas as pd\n",
    "from pandas.plotting import register_matplotlib_converters\n",
    "\n",
    "import configparser\n",
    "\n",
    "config = configparser.ConfigParser()\n",
    "config.read(\"../../analytics_secrets.ini\")\n",
    "\n",
    "_ACTIVE_STANDBY = config['DEFAULT']['role']\n",
    "if _ACTIVE_STANDBY == 'STANDBY':\n",
    "    print(\"STANDBY\")\n",
    "    raise SystemExit(\"Stop right there!\")\n",
    "else:\n",
    "  _SLACK_TOKEN = config['slack']['token']\n",
    "  _CHIRPSTACK_USER = config['chirpstack']['user']\n",
    "  _CHIRPSTACK_PASS = config['chirpstack']['password']\n",
    "  _DB_HOST  = config['kanjidb']['dbhost']\n",
    "  _DB_PORT  = config['kanjidb']['dbport']  \n",
    "  _DB_NAME  = config['kanjidb']['dbname']\n",
    "  _DB_USER  = config['kanjidb']['dbuser']\n",
    "  _DB_PASS  = config['kanjidb']['dbpass']\n",
    "\n",
    "  _THRESHOLD_WMA = float(config['analytics']['waterlevelmin'])\n",
    "  _THRESHOLD_WMAMEAN = 638.0\n",
    "    \n",
    "  _UTC_OFFSET = int(config['DEFAULT']['utcoffset'])\n",
    "\n",
    "  _LOG_DEBUG = 0\n",
    "  _LOG_INFO  = 1\n",
    "  _LOG_ERROR = 2\n",
    "  _LOG_LEVEL = int(config['DEFAULT']['loglevel'])\n",
    "    \n",
    "def logger(level, message):\n",
    "    if level >= _LOG_LEVEL:\n",
    "      print(message)\n",
    "\n",
    "logger(_LOG_DEBUG, \"{} {} {} {} {}\".format(_DB_HOST, _DB_PORT, _DB_NAME, _DB_USER, _DB_PASS))\n",
    "\n",
    "import kanjiticketing as kt\n",
    "\n",
    "conn = kt.getKanjiDbConnection(_DB_HOST, _DB_PORT, _DB_NAME, _DB_USER, _DB_PASS)\n",
    "if conn is not None:\n",
    "  print(\"Welcome to Jupyter Notebook.  You are connected to the Kanji database!\")\n",
    "else:\n",
    "  print(\"You are not connected to the database.\")"
   ]
  },
  {
   "cell_type": "code",
   "execution_count": 2,
   "metadata": {},
   "outputs": [
    {
     "data": {
      "text/plain": [
       "<Figure size 2400x800 with 2 Axes>"
      ]
     },
     "metadata": {},
     "output_type": "display_data"
    },
    {
     "data": {
      "text/plain": [
       "<Figure size 2400x800 with 2 Axes>"
      ]
     },
     "metadata": {},
     "output_type": "display_data"
    },
    {
     "data": {
      "text/plain": [
       "<Figure size 2400x800 with 2 Axes>"
      ]
     },
     "metadata": {},
     "output_type": "display_data"
    },
    {
     "data": {
      "text/plain": [
       "<Figure size 2400x800 with 2 Axes>"
      ]
     },
     "metadata": {},
     "output_type": "display_data"
    },
    {
     "data": {
      "text/plain": [
       "<Figure size 2400x800 with 2 Axes>"
      ]
     },
     "metadata": {},
     "output_type": "display_data"
    },
    {
     "data": {
      "text/plain": [
       "<Figure size 2400x800 with 2 Axes>"
      ]
     },
     "metadata": {},
     "output_type": "display_data"
    },
    {
     "data": {
      "text/plain": [
       "<Figure size 2400x800 with 2 Axes>"
      ]
     },
     "metadata": {},
     "output_type": "display_data"
    },
    {
     "data": {
      "text/plain": [
       "<Figure size 2400x800 with 2 Axes>"
      ]
     },
     "metadata": {},
     "output_type": "display_data"
    },
    {
     "data": {
      "text/plain": [
       "<Figure size 2400x800 with 2 Axes>"
      ]
     },
     "metadata": {},
     "output_type": "display_data"
    },
    {
     "data": {
      "text/plain": [
       "<Figure size 2400x800 with 2 Axes>"
      ]
     },
     "metadata": {},
     "output_type": "display_data"
    }
   ],
   "source": [
    "#_LOG_LEVEL = _LOG_DEBUG\n",
    "\n",
    "import matplotlib.pyplot as plt\n",
    "plt.rcParams.update({'font.size': 22})\n",
    "from matplotlib import dates\n",
    "register_matplotlib_converters()\n",
    "\n",
    "_TIME_INTERVAL_HOURS = 168 * 2\n",
    "\n",
    "now = datetime.now(pytz.utc)  #tz Aware\n",
    "starttime = now - timedelta(hours=_TIME_INTERVAL_HOURS, minutes=0)\n",
    "date_rng = pd.date_range(start=starttime, end=now, freq='H')\n",
    "df = pd.DataFrame(date_rng, columns=['hour'])\n",
    "df['counts'] = 180\n",
    "logger(_LOG_DEBUG, df.head(15))\n",
    "ts_expected = df.set_index('hour')\n",
    "expected = ts_expected['counts']\n",
    "\n",
    "nodequery = \"SELECT * FROM kanji_node WHERE customer_id=10001;\"\n",
    "#WHERE application_id=10009;\"\n",
    "df0 = pd.read_sql(nodequery, conn)\n",
    "for ind in df0.index:\n",
    "  nodeid = df0['idnode'][ind]\n",
    "  nodename = df0['name'][ind]\n",
    "  query = \"SELECT COUNT(*) AS counts, date_trunc('hour', timestamp) AS hour \\\n",
    "         FROM kanji_eventlog \\\n",
    "         WHERE node_id={} \\\n",
    "         AND timestamp>NOW() - INTERVAL '{} HOURS' \\\n",
    "         GROUP BY hour ORDER BY hour asc;\".format(nodeid, _TIME_INTERVAL_HOURS)\n",
    "     \n",
    "  logger(_LOG_DEBUG, query)\n",
    "  df1 = pd.read_sql(query, conn)\n",
    "  logger(_LOG_DEBUG, df1.head(24))\n",
    "  ts_actual = df1.set_index('hour')\n",
    "  logger(_LOG_DEBUG, \"hourly ts=\\n{}\".format(ts_actual))\n",
    "  actual = ts_actual['counts']\n",
    "  # Plot the profile\n",
    "  fig = plt.figure(figsize=(24,8))\n",
    "  fig.subplots_adjust(top=0.8)\n",
    "        \n",
    "  pcolor = 'tab:red'\n",
    "  tcolor = 'tab:blue'\n",
    "  hcolor = 'tab:green'\n",
    "        \n",
    "  ax1 = fig.add_subplot(211)\n",
    "  ax1.set_ylabel('# packets', color=pcolor)\n",
    "  ax1.set_ylim([0, 200])\n",
    "  ax1.set_xlim([starttime, now])\n",
    "  \n",
    "  plt.rc('grid', linestyle=\"-\", color='black')\n",
    "  plt.grid(True)\n",
    "\n",
    "  ax2 = ax1.twinx()  # instantiate a second axes that shares the same x-axis\n",
    "  ax2.set_ylabel('EVal', color=tcolor)\n",
    "  ax2.set_ylim([0, 200])\n",
    "\n",
    "  #ax1.xaxis.set_minor_locator(hours)\n",
    "          \n",
    "  ax1.set_title('{} packet profile'.format(nodename))\n",
    "  ax1.plot(actual, color=pcolor, marker='o', markersize=12)\n",
    "  ax2.plot(expected, color=tcolor)\n",
    "  plt.tight_layout()\n",
    "  plt.show()"
   ]
  },
  {
   "cell_type": "code",
   "execution_count": null,
   "metadata": {},
   "outputs": [],
   "source": []
  },
  {
   "cell_type": "code",
   "execution_count": null,
   "metadata": {},
   "outputs": [],
   "source": []
  }
 ],
 "metadata": {
  "kernelspec": {
   "display_name": "KanjiProjects",
   "language": "python",
   "name": "kanjiprojects"
  },
  "language_info": {
   "codemirror_mode": {
    "name": "ipython",
    "version": 3
   },
   "file_extension": ".py",
   "mimetype": "text/x-python",
   "name": "python",
   "nbconvert_exporter": "python",
   "pygments_lexer": "ipython3",
   "version": "3.7.2"
  }
 },
 "nbformat": 4,
 "nbformat_minor": 2
}
