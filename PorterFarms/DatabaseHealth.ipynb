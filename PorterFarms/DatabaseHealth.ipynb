{
 "cells": [
  {
   "cell_type": "markdown",
   "metadata": {},
   "source": [
    "## Checks Availability of the KanjiDB"
   ]
  },
  {
   "cell_type": "code",
   "execution_count": 1,
   "metadata": {},
   "outputs": [
    {
     "name": "stdout",
     "output_type": "stream",
     "text": [
      "============================================\n",
      "/  DatabaseHealth is running.                  /\n",
      "============================================\n",
      "Python version\n",
      "3.7.2 (default, Dec 29 2018, 06:19:36) \n",
      "[GCC 7.3.0]\n",
      "Version info.\n",
      "sys.version_info(major=3, minor=7, micro=2, releaselevel='final', serial=0)\n"
     ]
    }
   ],
   "source": [
    "import sys\n",
    "sys.path.append('/home/sensei/jupy-notebooks/Analytics/PorterFarms/')\n",
    "print(\"============================================\")\n",
    "print(\"/  DatabaseHealth is running.                  /\")\n",
    "print(\"============================================\")\n",
    "\n",
    "import requests\n",
    "from datetime import datetime, timedelta\n",
    "import pytz\n",
    "from slackclient import SlackClient\n",
    "import json\n",
    "import psycopg2 as pg\n",
    "import pandas.io.sql as psql\n",
    "import pandas as pd\n",
    "import configparser\n",
    "\n",
    "config = configparser.ConfigParser()\n",
    "config.read(\"../../analytics_secrets.ini\")\n",
    "\n",
    "_ACTIVE_STANDBY = config['DEFAULT']['role']\n",
    "if _ACTIVE_STANDBY == 'STANDBY':\n",
    "    print(\"STANDBY\")\n",
    "    raise SystemExit(\"Stop right there!\")\n",
    "else:\n",
    "  _SLACK_TOKEN = config['slack']['token']\n",
    "  _CHIRPSTACK_USER = config['chirpstack']['user']\n",
    "  _CHIRPSTACK_PASS = config['chirpstack']['password']\n",
    "  _DB_HOST  = config['kanjidb']['dbhost']\n",
    "  _DB_PORT  = config['kanjidb']['dbport']\n",
    "  _DB_NAME  = config['kanjidb']['dbname']\n",
    "  _DB_USER  = config['kanjidb']['dbuser']\n",
    "  _DB_PASS  = config['kanjidb']['dbpass']\n",
    "\n",
    "  _USE_DROPBOX   = config['dropbox']['usedropbox']\n",
    "  _FALLBACK_IMAGE = config['dropbox']['fallbackimage']\n",
    "\n",
    "  _SLACK_SYSTEMCHANNEL_NAME = config['analytics']['systemchannelname']\n",
    "  _SLACK_SYSTEMCHANNEL_DBID = int(config['analytics']['systemchannelid'])\n",
    "\n",
    "  _LOG_DEBUG = 0\n",
    "  _LOG_INFO  = 1\n",
    "  _LOG_ERROR = 2\n",
    "  _LOG_LEVEL = int(config['DEFAULT']['loglevel'])\n",
    "\n",
    "def logger(level, message):\n",
    "    if level >= _LOG_LEVEL:\n",
    "      print(message)\n",
    "\n",
    "logger(_LOG_DEBUG, \"{} {} {} {} {}\".format(_DB_HOST, _DB_PORT, _DB_NAME, _DB_USER, _DB_PASS))\n",
    "\n",
    "import kanjiticketing as kt\n",
    "\n",
    "messagetemplate = \"[\\\n",
    "   {\\\"type\\\": \\\"section\\\", \\\n",
    "\t\t\\\"text\\\": { \\\n",
    "\t\t\t\\\"type\\\": \\\"mrkdwn\\\", \\\n",
    "\t\t\t\\\"text\\\": \\\"*<fakeLink.toUserProfiles.com|Iris / Zelda 1-1>*\\\\nTuesday, January 21 4:00-4:30pm\\\\nBuilding 2 - Havarti Cheese (3)\\\\n2 guests\\\" \\\n",
    "\t\t}, \\\n",
    "\t\t\\\"accessory\\\": { \\\n",
    "\t\t\t\\\"type\\\": \\\"image\\\", \\\n",
    "\t\t\t\\\"image_url\\\": \\\"https://api.slack.com/img/blocks/bkb_template_images/notifications.png\\\", \\\n",
    "\t\t\t\\\"alt_text\\\": \\\"calendar thumbnail\\\" \\\n",
    "\t\t} \\\n",
    "   } ]\""
   ]
  },
  {
   "cell_type": "code",
   "execution_count": 2,
   "metadata": {},
   "outputs": [],
   "source": [
    "def postMessageToSlack(blockmessage):    \n",
    "    sc = SlackClient(_SLACK_TOKEN)\n",
    "    slackchannel = _SLACK_SYSTEMCHANNEL_NAME    \n",
    "    response = sc.api_call(\"chat.postMessage\", channel=slackchannel, blocks=blockmessage)\n",
    "    print(blockmessage) \n",
    "    if not 'ok' in response or not response['ok']:\n",
    "      logger(_LOG_ERROR, \"Error posting message to Slack channel\")\n",
    "      logger(_LOG_ERROR, blockmessage)\n",
    "      logger(_LOG_ERROR, response)\n",
    "    else:\n",
    "      logger(_LOG_INFO, \"Ok posting message to Slack channel\")"
   ]
  },
  {
   "cell_type": "code",
   "execution_count": 3,
   "metadata": {},
   "outputs": [
    {
     "name": "stdout",
     "output_type": "stream",
     "text": [
      "Welcome to Jupyter Notebook.  You are connected to the Kanji database!\n",
      "PostgreSQL is Ok\n",
      "DatabaseHealth Done!\n"
     ]
    }
   ],
   "source": [
    "#Ticket Type\n",
    "DATABASE_API = 10007\n",
    "DATABASE_CONNECTION = 10008\n",
    "DATABASE_NODE = 20012\n",
    "\n",
    "_PREFERRED_IMAGE = \"https://www.dropbox.com/s/ntr225t1xwyzsi7/db-missing.jpg?raw=1\"\n",
    "\n",
    "if _USE_DROPBOX == 'true':\n",
    "  locationimageurl = _PREFERRED_IMAGE\n",
    "else:\n",
    "  locationimageurl = _FALLBACK_IMAGE  \n",
    "\n",
    "conn = kt.getKanjiDbConnection(_DB_HOST, _DB_PORT, _DB_NAME, _DB_USER, _DB_PASS)\n",
    "if conn is not None:\n",
    "  print(\"Welcome to Jupyter Notebook.  You are connected to the Kanji database!\")\n",
    "  query = \"SELECT node.name, location.idlocation, location. description \\\n",
    "                 FROM kanji_node node JOIN kanji_location location ON node.location_id=location.idlocation \\\n",
    "                 WHERE idnode={} LIMIT 1\".format(DATABASE_NODE)\n",
    "\n",
    "  df = pd.read_sql(query, conn)\n",
    "  nodename = df['name'][0]\n",
    "  locationid = df['idlocation'][0]\n",
    "  location = df['description'][0]\n",
    "  mentions = \"\"\n",
    "\n",
    "  if len(df.index) == 1:\n",
    "    logger(_LOG_INFO, \"PostgreSQL is Ok\")\n",
    "  else:\n",
    "    logger(_LOG_INFO, \"PostgreSQL is not Ok\")\n",
    "    description = \" response = {}\".format(len(df.index))    \n",
    "      \n",
    "    #generate and Slack a new ticket ONLY if there is not a currently open ticket for this issue\n",
    "    openTicket = kt.ticketExists(conn, DATABASE_NODE, DATABASE_API, [kt._OPEN_STATUS, kt._WORKING_STATUS])\n",
    "    if openTicket is None:\n",
    "      ticketid = kt.openticket(conn, DATABASE_NODE, locationid, description, 2, 3, DATABASE_API, _SLACK_SYSTEMCHANNEL_DBID)\n",
    "      ts = kt.slackticket(nodename, location, description, mentions, 2, 3, locationimageurl, _SLACK_TOKEN, _SLACK_SYSTEMCHANNEL_NAME, ticketid, 0)\n",
    "      kt.updateTicket(conn, ticketid, ts)  \n",
    "      logger(_LOG_INFO, \"New ticket {} created for this issue.\".format(ticketid))\n",
    "    else:\n",
    "      logger(_LOG_INFO, \"There is an existing ticket {} for this issue. {}\".format(openTicket['idticket'][0], openTicket['opentimestamp'][0]))\n",
    "else:\n",
    "  print(\"You are not connected to the database.\")\n",
    "  blockmessage = json.loads(messagetemplate)\n",
    "  blockmessage[0][\"accessory\"][\"image_url\"] = locationimageurl\n",
    "  blockmessage[0][\"text\"][\"text\"] = \"{}\".format(\"Database connection error.\\n(non-ticketable)\")\n",
    "  postMessageToSlack(blockmessage)\n",
    "\n",
    "logger(_LOG_INFO, \"DatabaseHealth Done!\")  "
   ]
  },
  {
   "cell_type": "code",
   "execution_count": null,
   "metadata": {},
   "outputs": [],
   "source": []
  }
 ],
 "metadata": {
  "kernelspec": {
   "display_name": "KanjiProjects",
   "language": "python",
   "name": "kanjiprojects"
  },
  "language_info": {
   "codemirror_mode": {
    "name": "ipython",
    "version": 3
   },
   "file_extension": ".py",
   "mimetype": "text/x-python",
   "name": "python",
   "nbconvert_exporter": "python",
   "pygments_lexer": "ipython3",
   "version": "3.7.2"
  }
 },
 "nbformat": 4,
 "nbformat_minor": 2
}
