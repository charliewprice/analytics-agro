{
 "cells": [
  {
   "cell_type": "markdown",
   "metadata": {},
   "source": [
    "## Scrubs Channel of All Resolved Tickets"
   ]
  },
  {
   "cell_type": "code",
   "execution_count": 1,
   "metadata": {},
   "outputs": [
    {
     "name": "stdout",
     "output_type": "stream",
     "text": [
      "============================================\n",
      "/  ScrubChannel is running.               /\n",
      "============================================\n",
      "localhost 5432 kanjidb postgres w0lfpack\n",
      "Python version\n",
      "3.7.2 (default, Dec 29 2018, 06:19:36) \n",
      "[GCC 7.3.0]\n",
      "Version info.\n",
      "sys.version_info(major=3, minor=7, micro=2, releaselevel='final', serial=0)\n",
      "Welcome to Jupyter Notebook.  You are connected to the Kanji database!\n"
     ]
    }
   ],
   "source": [
    "import sys\n",
    "sys.path.append('/home/sensei/jupy-notebooks/Analytics/PorterFarms/')\n",
    "print(\"============================================\")\n",
    "print(\"/  ScrubChannel is running.               /\")\n",
    "print(\"============================================\")\n",
    "import requests\n",
    "from datetime import datetime, timedelta\n",
    "import pytz\n",
    "from slackclient import SlackClient\n",
    "import json\n",
    "import psycopg2 as pg\n",
    "import pandas.io.sql as psql\n",
    "import pandas as pd\n",
    "import configparser\n",
    "import time\n",
    "\n",
    "config = configparser.ConfigParser()\n",
    "config.read(\"../../analytics_secrets.ini\")\n",
    "\n",
    "_ACTIVE_STANDBY = config['DEFAULT']['role']\n",
    "if _ACTIVE_STANDBY == 'STANDBY':\n",
    "    print(\"STANDBY\")\n",
    "    raise SystemExit(\"Stop right there!\")\n",
    "else:\n",
    "  _SLACK_TOKEN = config['slack']['token']\n",
    "  _CHIRPSTACK_USER = config['chirpstack']['user']\n",
    "  _CHIRPSTACK_PASS = config['chirpstack']['password']\n",
    "  _DB_HOST  = config['kanjidb']['dbhost']\n",
    "  _DB_PORT  = config['kanjidb']['dbport']\n",
    "  _DB_NAME  = config['kanjidb']['dbname']\n",
    "  _DB_USER  = config['kanjidb']['dbuser']\n",
    "  _DB_PASS  = config['kanjidb']['dbpass']\n",
    "  _USE_DROPBOX   = config['dropbox']['usedropbox']\n",
    "  _FALLBACK_IMAGE = config['dropbox']['fallbackimage']\n",
    "\n",
    "  _LOG_DEBUG = 0\n",
    "  _LOG_INFO  = 1\n",
    "  _LOG_ERROR = 2\n",
    "  _LOG_LEVEL = int(config['DEFAULT']['loglevel'])\n",
    "    \n",
    "  _LOG_LEVEL = _LOG_DEBUG\n",
    "    \n",
    "def logger(level, message):\n",
    "    if level >= _LOG_LEVEL:\n",
    "      print(message)\n",
    "\n",
    "logger(_LOG_DEBUG, \"{} {} {} {} {}\".format(_DB_HOST, _DB_PORT, _DB_NAME, _DB_USER, _DB_PASS))\n",
    "\n",
    "import kanjiticketing as kt\n",
    "\n",
    "conn = kt.getKanjiDbConnection(_DB_HOST, _DB_PORT, _DB_NAME, _DB_USER, _DB_PASS)\n",
    "if conn is not None:\n",
    "  print(\"Welcome to Jupyter Notebook.  You are connected to the Kanji database!\")\n",
    "else:\n",
    "  print(\"You are not connected to the database.\")\n",
    "\n",
    "updatetemplate = \"{\\\n",
    "    \\\"ok\\\": true, \\\n",
    "    \\\"channel\\\": \\\"C024BE91L\\\", \\\n",
    "    \\\"ts\\\": \\\"1401383885.000061\\\", \\\n",
    "    \\\"text\\\": \\\"Updated text you carefully authored\\\", \\\n",
    "    \\\"message\\\": { \\\n",
    "        \\\"text\\\": \\\"Updated text you carefully authored\\\", \\\n",
    "        \\\"user\\\": \\\"DGM50H51N\\\" \\\n",
    "    } }\""
   ]
  },
  {
   "cell_type": "code",
   "execution_count": 2,
   "metadata": {},
   "outputs": [],
   "source": [
    "def updateMessageToSlack(slackchannel, ts, text):\n",
    "    sc = SlackClient(_SLACK_TOKEN)\n",
    "    response = sc.api_call(\"chat.update\", channel=slackchannel, ts=ts, text=text, blocks=[])\n",
    "    #print(blockmessage) \n",
    "    if not 'ok' in response or not response['ok']:\n",
    "      print(\"Error posting message to Slack channel\")\n",
    "      print(blockmessage)\n",
    "      print(response)\n",
    "      return 'failed'\n",
    "    else:\n",
    "      print(\"Ok posting message to Slack channel\")\n",
    "      return 'ok'"
   ]
  },
  {
   "cell_type": "code",
   "execution_count": 3,
   "metadata": {},
   "outputs": [
    {
     "name": "stdout",
     "output_type": "stream",
     "text": [
      "number of resolved tickets 0\n",
      "ScrubChannel Done!\n"
     ]
    }
   ],
   "source": [
    "STATUS_CLOSED   = 10003\n",
    "STATUS_ARCHIVED = 10004\n",
    "STATUS_SCRUBBED = 10005\n",
    "\n",
    "now = datetime.now() + timedelta(hours = 4)\n",
    "\n",
    "resolvedticketquery = \"SELECT * FROM kanji_ticket WHERE status_id={}\".format(STATUS_CLOSED)\n",
    "#logger(_LOG_DEBUG, closedticketquery)\n",
    "df = pd.read_sql(resolvedticketquery, conn)\n",
    "\n",
    "logger(_LOG_DEBUG, \"number of resolved tickets {}\".format(len(df.index)))\n",
    "for ind in df.index:\n",
    "    logger(_LOG_DEBUG, ind)\n",
    "    blockmessage = json.loads(updatetemplate)\n",
    "    idticket = df['idticket'][ind]\n",
    "    ticketts = df['ticketts'][ind]\n",
    "    ticketchanneldbid = df['slackticketchannel_id'][ind]\n",
    "    tickettypeid = df['type_id'][ind]\n",
    "    ticketnodeid = df['node_id'][ind]\n",
    "    logger(_LOG_INFO, \"{} {}\".format(idticket, ticketts))\n",
    "    if idticket > 0:\n",
    "      channelquery = \"SELECT channelname, channelid FROM kanji_slackchannel WHERE idslackchannel={}\".format(ticketchanneldbid)\n",
    "      df2 = pd.read_sql(channelquery, conn)\n",
    "      slackchannel = df2['channelid'][0]\n",
    "      channelname = df2['channelname'][0]\n",
    "      sc = SlackClient(_SLACK_TOKEN)\n",
    "      response = sc.api_call(\"chat.delete\", channel=slackchannel, ts=ticketts)\n",
    "      logger(_LOG_INFO, \"Deleting message ts={} from channel={}\".format(ticketts, channelname))\n",
    "      if not 'ok' in response or not response['ok']:\n",
    "        print(response)\n",
    "      kt.updateTicketStatus(conn, idticket, STATUS_ARCHIVED)\n",
    "      time.sleep(1)\n",
    "logger(_LOG_INFO, \"ScrubChannel Done!\")"
   ]
  },
  {
   "cell_type": "code",
   "execution_count": null,
   "metadata": {},
   "outputs": [],
   "source": []
  },
  {
   "cell_type": "code",
   "execution_count": null,
   "metadata": {},
   "outputs": [],
   "source": []
  }
 ],
 "metadata": {
  "kernelspec": {
   "display_name": "KanjiProjects",
   "language": "python",
   "name": "kanjiprojects"
  },
  "language_info": {
   "codemirror_mode": {
    "name": "ipython",
    "version": 3
   },
   "file_extension": ".py",
   "mimetype": "text/x-python",
   "name": "python",
   "nbconvert_exporter": "python",
   "pygments_lexer": "ipython3",
   "version": "3.7.2"
  }
 },
 "nbformat": 4,
 "nbformat_minor": 2
}
